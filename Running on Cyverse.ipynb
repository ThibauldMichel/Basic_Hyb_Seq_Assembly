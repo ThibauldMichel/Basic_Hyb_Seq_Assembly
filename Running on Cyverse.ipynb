{
 "cells": [
  {
   "cell_type": "markdown",
   "metadata": {},
   "source": [
    "# Cyverse set up  \n",
    "The basic pipeline can be set up and run on a cyverse atmosphere instance.  \n",
    "\n",
    "https://atmo.cyverse.org/  \n",
    "    \n",
    "Ask for at least 2000 AU, which should give you plenty fo processing time to work through a capture.\n",
    "It is very useful to ask for extra storage to keep the raw/trimmed reads and the bam files.  \n",
    "\n",
    "I have a volume of 500GB for this purpuse, which can be attached to an active instance on the website.\n",
    "\n",
    "For 48 samples this is a sufficiently large instance:  \n",
    "\n",
    "medium3 (CPU 4, mem 32GB Disk, 240 GB root  \n",
    "The one I have at the moment is based on DC_genomics_Noble_2018, it already has fastqc, trimmomatic, bwa, samtools and bcftools installed.\n",
    "\n",
    "You will need to install a few more things to run the pipeline."
   ]
  },
  {
   "cell_type": "markdown",
   "metadata": {},
   "source": [
    "### Sort connectivity and storage  \n",
    "You neeed to inititate iRODs to connect to your datastore account and to enable moving data easily to adn from teh server  "
   ]
  },
  {
   "cell_type": "code",
   "execution_count": null,
   "metadata": {},
   "outputs": [],
   "source": [
    "iinit\n",
    "Enter the host name (DNS) of the server to connect to: data.iplantcollaborative.org\n",
    "Enter the port number: 1247\n",
    "Enter your irods user name: myiplantusername\n",
    "Enter your irods zone: iplant\n",
    "Enter your current iRODS password: myiplantpassword"
   ]
  },
  {
   "cell_type": "markdown",
   "metadata": {},
   "source": [
    "Make the iRODs directory a folder on your server (can be handy, though not used directly in the current pipeline"
   ]
  },
  {
   "cell_type": "code",
   "execution_count": null,
   "metadata": {},
   "outputs": [],
   "source": [
    "mkdir iROD/\n",
    "irodsFs iROD/ -o max_readahead=0"
   ]
  },
  {
   "cell_type": "markdown",
   "metadata": {},
   "source": [
    "Set up the Volume"
   ]
  },
  {
   "cell_type": "code",
   "execution_count": null,
   "metadata": {},
   "outputs": [],
   "source": [
    "mkdir Process/\n",
    "sudo mount /dev/vdc ~/Process"
   ]
  },
  {
   "cell_type": "code",
   "execution_count": null,
   "metadata": {},
   "outputs": [],
   "source": [
    "This is where your raw reads are assumed to be adn where the bams for the allignments will be put"
   ]
  },
  {
   "cell_type": "markdown",
   "metadata": {},
   "source": [
    "Link in this github"
   ]
  },
  {
   "cell_type": "code",
   "execution_count": null,
   "metadata": {},
   "outputs": [],
   "source": [
    "git clone https://github.com/ckidner/Basic_HybSeq_pipeline.git"
   ]
  },
  {
   "cell_type": "markdown",
   "metadata": {},
   "source": [
    "### Set up jupyter notebooks"
   ]
  },
  {
   "cell_type": "code",
   "execution_count": null,
   "metadata": {},
   "outputs": [],
   "source": [
    "ezj"
   ]
  },
  {
   "cell_type": "markdown",
   "metadata": {},
   "source": [
    "will provide a url which can be used in the browser on your local machine to conect to the remote notebook"
   ]
  },
  {
   "cell_type": "markdown",
   "metadata": {},
   "source": [
    "### Set up the extra software  \n",
    "trimal  \n",
    "amas  \n",
    "FastTree  \n",
    "raxml  "
   ]
  },
  {
   "cell_type": "code",
   "execution_count": null,
   "metadata": {},
   "outputs": [],
   "source": [
    "sudo apt-get install raxml\n",
    "sudo apt-get install fasttree"
   ]
  },
  {
   "cell_type": "code",
   "execution_count": null,
   "metadata": {},
   "outputs": [],
   "source": [
    "#set up bioconda channel\n",
    "conda config --add channels defaults\n",
    "conda config --add channels bioconda\n",
    "conda config --add channels conda-forge"
   ]
  },
  {
   "cell_type": "code",
   "execution_count": null,
   "metadata": {},
   "outputs": [],
   "source": [
    "# install trimal\n",
    "conda install trimal\n",
    "conda update trimal"
   ]
  },
  {
   "cell_type": "code",
   "execution_count": null,
   "metadata": {},
   "outputs": [],
   "source": [
    "# install AMAS\n",
    "git clone https://github.com/marekborowiec/AMAS.git\n",
    "# move the files to the usr bin or add to PATH\n",
    "sudo cp -r AMAS/* ~/../../usr/bin"
   ]
  },
  {
   "cell_type": "markdown",
   "metadata": {},
   "source": [
    "### Running the pipeline\n",
    "You should be OK to run the pipeline now, following the method in the jupyter notebook using raw_to_fasta_BWA.sh to start"
   ]
  },
  {
   "cell_type": "code",
   "execution_count": null,
   "metadata": {},
   "outputs": [],
   "source": []
  }
 ],
 "metadata": {
  "kernelspec": {
   "display_name": "Python 2",
   "language": "python",
   "name": "python2"
  },
  "language_info": {
   "codemirror_mode": {
    "name": "ipython",
    "version": 2
   },
   "file_extension": ".py",
   "mimetype": "text/x-python",
   "name": "python",
   "nbconvert_exporter": "python",
   "pygments_lexer": "ipython2",
   "version": "2.7.15rc1"
  }
 },
 "nbformat": 4,
 "nbformat_minor": 2
}
